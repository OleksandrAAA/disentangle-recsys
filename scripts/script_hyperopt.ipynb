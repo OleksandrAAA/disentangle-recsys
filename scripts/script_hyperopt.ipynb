{
  "nbformat": 4,
  "nbformat_minor": 0,
  "metadata": {
    "colab": {
      "name": "Untitled0.ipynb",
      "provenance": [],
      "authorship_tag": "ABX9TyP5HiTfvxckHE2d79ZALhs6",
      "include_colab_link": true
    },
    "kernelspec": {
      "name": "python3",
      "display_name": "Python 3"
    },
    "language_info": {
      "name": "python"
    }
  },
  "cells": [
    {
      "cell_type": "markdown",
      "metadata": {
        "id": "view-in-github",
        "colab_type": "text"
      },
      "source": [
        "<a href=\"https://colab.research.google.com/github/OleksandrAAA/disentangle-recsys/blob/main/scripts/script_hyperopt.ipynb\" target=\"_parent\"><img src=\"https://colab.research.google.com/assets/colab-badge.svg\" alt=\"Open In Colab\"/></a>"
      ]
    },
    {
      "cell_type": "code",
      "source": [
        "#!/usr/bin/env python3\n",
        "\n",
        "# Script for automatically tuning the hyper-parameters.\n",
        "# You can usually get better results if you tune your model *manually*, though.\n",
        "\n",
        "from __future__ import division\n",
        "from __future__ import print_function\n",
        "\n",
        "import subprocess\n",
        "import sys\n",
        "\n",
        "import hyperopt\n",
        "\n",
        "min_y = 0\n",
        "min_c = None\n",
        "\n",
        "\n",
        "def flush():\n",
        "    sys.stdout.flush()\n",
        "    sys.stderr.flush()\n",
        "\n",
        "\n",
        "def trial(hyperpm):\n",
        "    global min_y, min_c\n",
        "    cmd = 'CUDA_VISIBLE_DEVICES=3 python main.py'\n",
        "    cmd += ' --data data/alishop --epoch 50 --dfac 100'\n",
        "    for k in hyperpm:\n",
        "        v = hyperpm[k]\n",
        "        cmd += ' --' + k\n",
        "        if isinstance(v, str):\n",
        "            cmd += ' %s' % v\n",
        "        elif int(v) == v:\n",
        "            cmd += ' %d' % int(v)\n",
        "        else:\n",
        "            cmd += ' %g' % float('%.1e' % float(v))\n",
        "    try:\n",
        "        print('\\nval=.....%% tst=.....%% @ %s' % cmd, file=sys.stderr)\n",
        "        flush()\n",
        "        output = subprocess.check_output(cmd, shell=True)\n",
        "    except subprocess.CalledProcessError:\n",
        "        print('...')\n",
        "        flush()\n",
        "        return {'loss': 0, 'status': hyperopt.STATUS_FAIL}\n",
        "    val, tst = eval(output)\n",
        "    print('val=%5.2f%% tst=%5.2f%% @ %s' % (val * 100, tst * 100, cmd))\n",
        "    flush()\n",
        "    score = -val  # tune hyper-parameters according to validation performance\n",
        "    if score < min_y:\n",
        "        min_y, min_c = score, cmd\n",
        "    return {'loss': score, 'status': hyperopt.STATUS_OK}\n",
        "\n",
        "\n",
        "# You may need to modify the search space listed below before tuning your model.\n",
        "space = {\n",
        "    'lr': hyperopt.hp.loguniform('lr', -8, 0),\n",
        "    'rg': hyperopt.hp.loguniform('rg', -12, 0),\n",
        "    'keep': hyperopt.hp.quniform('dropout', 1, 20, 1) * 0.05,\n",
        "    'beta': hyperopt.hp.quniform('beta', 1, 100, 1) * 0.05,\n",
        "    'tau': hyperopt.hp.quniform('tau', 1, 20, 1) * 0.05,\n",
        "    'std': hyperopt.hp.quniform('std', 1, 10, 1) * 0.025,\n",
        "    'kfac': hyperopt.hp.quniform('kfac', 1, 10, 1)\n",
        "}\n",
        "hyperopt.fmin(trial, space, algo=hyperopt.tpe.suggest, max_evals=1000)\n",
        "print('>>>>', min_c)\n"
      ],
      "metadata": {
        "id": "TTTQ2gFeGp5F"
      },
      "execution_count": null,
      "outputs": []
    }
  ]
}