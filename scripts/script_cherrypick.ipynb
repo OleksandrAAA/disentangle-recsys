{
  "nbformat": 4,
  "nbformat_minor": 0,
  "metadata": {
    "colab": {
      "name": "Untitled0.ipynb",
      "provenance": [],
      "authorship_tag": "ABX9TyMM3kEkPnnPzQ7ue634DrJN",
      "include_colab_link": true
    },
    "kernelspec": {
      "name": "python3",
      "display_name": "Python 3"
    },
    "language_info": {
      "name": "python"
    }
  },
  "cells": [
    {
      "cell_type": "markdown",
      "metadata": {
        "id": "view-in-github",
        "colab_type": "text"
      },
      "source": [
        "<a href=\"https://colab.research.google.com/github/OleksandrAAA/disentangle-recsys/blob/main/scripts/script_cherrypick.ipynb\" target=\"_parent\"><img src=\"https://colab.research.google.com/assets/colab-badge.svg\" alt=\"Open In Colab\"/></a>"
      ]
    },
    {
      "cell_type": "code",
      "source": [
        "from __future__ import division\n",
        "from __future__ import print_function\n",
        "from __future__ import unicode_literals\n",
        "\n",
        "import subprocess\n",
        "\n",
        "import numpy as np\n",
        "\n",
        "interpretable = 0  # the higher, the more interpretable\n",
        "\n",
        "# Macro disentanglement is good when interpretable >=2,\n",
        "# while good micro disentanglement requires a higher score.\n",
        "\n",
        "while interpretable < 2:\n",
        "    seed = np.random.randint(0, 1 << 30)\n",
        "    cmd = 'CUDA_VISIBLE_DEVICES=3 python3 main.py '\n",
        "    cmd += '--data data/alishop --epoch 20 --seed %d --mode %s'\n",
        "    try:\n",
        "        subprocess.check_output(cmd % (seed, 'trn'), shell=True)\n",
        "        val = subprocess.check_output(cmd % (seed, 'vis'), shell=True)\n",
        "        val = eval(val)\n",
        "        print('interpretable=%d, seed=%d' % (val, seed))\n",
        "    except subprocess.CalledProcessError:\n",
        "        val = 0\n",
        "    interpretable = max(interpretable, val)\n"
      ],
      "metadata": {
        "id": "5epNU-WgF5VF"
      },
      "execution_count": null,
      "outputs": []
    }
  ]
}